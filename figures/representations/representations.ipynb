{
 "cells": [
  {
   "cell_type": "markdown",
   "metadata": {},
   "source": [
    "## Dependencies\n",
    "```\n",
    "pip install deepsmiles selfies safe-mol rdkit \n",
    "```"
   ]
  },
  {
   "cell_type": "code",
   "execution_count": 37,
   "metadata": {},
   "outputs": [],
   "source": [
    "# define a molecule and represent it using a SMILES string, DeepSMILES string, \n",
    "# and a SELFIES string and a Safe string\n",
    "\n",
    "from numpy import string_\n",
    "from rdkit import Chem\n",
    "import deepsmiles\n",
    "import selfies\n",
    "import safe\n",
    "\n",
    "from rdkit import Chem\n",
    "from rdkit.Chem import AllChem\n",
    "import py3Dmol\n",
    "\n",
    "def plot_3d(name, smiles, show=False):\n",
    "    molecule = Chem.MolFromSmiles(smiles)\n",
    "\n",
    "    # Add hydrogens to the molecule\n",
    "    molecule = Chem.AddHs(molecule)\n",
    "\n",
    "    # Generate 3D coordinates\n",
    "    AllChem.EmbedMolecule(molecule, AllChem.ETKDG())\n",
    "    AllChem.UFFOptimizeMolecule(molecule)\n",
    "\n",
    "    # Generate 3D conformer as a PDB string\n",
    "    pdb_block = Chem.MolToPDBBlock(molecule)\n",
    "\n",
    "    # Visualize the molecule using py3Dmol\n",
    "    viewer = py3Dmol.view(width=800, height=600)\n",
    "    viewer.addModel(pdb_block, 'pdb')\n",
    "    viewer.setStyle({'stick': {}})\n",
    "    viewer.zoomTo()\n",
    "    if show:\n",
    "        viewer.show()\n",
    "\n",
    "    # Save the viewer's contents to an HTML file\n",
    "    html_content = viewer._make_html()\n",
    "    with open(f'{name}_3d.html', 'w') as f:\n",
    "        f.write(html_content)\n",
    "\n",
    "\n",
    "# define caffeine\n",
    "name_to_input = {\n",
    "    \"Caffeine\": \"Cn1cnc2c1c(=O)n(C)c(=O)n2C\",\n",
    "    \"Aspirin\": \"CC(=O)OC1=CC=CC=C1C(=O)O\",\n",
    "    \"Paracetamol\": \"CC(=O)NC1=CC=C(C=C1)O\",\n",
    "}\n",
    "for name in name_to_input:\n",
    "    input_smiles = name_to_input[name]\n",
    "\n",
    "    mol = Chem.MolFromSmiles(input_smiles)\n",
    "    string_reps = {}\n",
    "    string_reps[\"SMILES\"] = Chem.MolToSmiles(mol)\n",
    "    string_reps[\"DeepSMILES\"] = deepsmiles.Converter(rings=True, branches=True).encode(string_reps[\"SMILES\"])\n",
    "    string_reps[\"SELFIES\"] = selfies.encoder(string_reps[\"SMILES\"])\n",
    "    try:\n",
    "        string_reps[\"SAFE\"] = safe.encode(input_smiles)\n",
    "    except:\n",
    "        pass\n",
    "\n",
    "    string_reps\n",
    "\n",
    "    with open(f\"{name}.txt\", \"w\") as f:\n",
    "        for key in string_reps:\n",
    "            print(f\"{key}: {string_reps[key]}\", file=f)\n",
    "        \n",
    "    # Generate the SVG representation\n",
    "    from rdkit.Chem import Draw\n",
    "    drawer = Draw.rdMolDraw2D.MolDraw2DSVG(300, 300)  # Set the size of the image\n",
    "    drawer.DrawMolecule(mol)\n",
    "    drawer.FinishDrawing()\n",
    "\n",
    "    # Get the SVG string\n",
    "    svg = drawer.GetDrawingText()\n",
    "\n",
    "    with open(f\"{name}.svg\", \"w\") as f:\n",
    "        f.write(svg)\n",
    "        \n",
    "    plot_3d(name, input_smiles)"
   ]
  },
  {
   "cell_type": "code",
   "execution_count": 2,
   "metadata": {},
   "outputs": [
    {
     "data": {
      "image/png": "[encoded data removed]",
      "text/plain": [
       "<Figure size 640x480 with 1 Axes>"
      ]
     },
     "metadata": {},
     "output_type": "display_data"
    }
   ],
   "source": []
  },
  {
   "cell_type": "code",
   "execution_count": 31,
   "metadata": {},
   "outputs": [
    {
     "data": {
      "application/3dmoljs_load.v0": "<div id=\"3dmolviewer_17179224397851067\"  style=\"position: relative; width: 800px; height: 600px;\">\n        <p id=\"3dmolwarning_17179224397851067\" style=\"background-color:#ffcccc;color:black\">3Dmol.js failed to load for some reason.  Please check your browser console for error messages.<br></p>\n        </div>\n<script>\n\nvar loadScriptAsync = function(uri){\n  return new Promise((resolve, reject) => {\n    //this is to ignore the existence of requirejs amd\n    var savedexports, savedmodule;\n    if (typeof exports !== 'undefined') savedexports = exports;\n    else exports = {}\n    if (typeof module !== 'undefined') savedmodule = module;\n    else module = {}\n\n    var tag = document.createElement('script');\n    tag.src = uri;\n    tag.async = true;\n    tag.onload = () => {\n        exports = savedexports;\n        module = savedmodule;\n        resolve();\n    };\n  var firstScriptTag = document.getElementsByTagName('script')[0];\n  firstScriptTag.parentNode.insertBefore(tag, firstScriptTag);\n});\n};\n\nif(typeof $3Dmolpromise === 'undefined') {\n$3Dmolpromise = null;\n  $3Dmolpromise = loadScriptAsync('https://cdnjs.cloudflare.com/ajax/libs/3Dmol/2.1.0/3Dmol-min.js');\n}\n\nvar viewer_17179224397851067 = null;\nvar warn = document.getElementById(\"3dmolwarning_17179224397851067\");\nif(warn) {\n    warn.parentNode.removeChild(warn);\n}\n$3Dmolpromise.then(function() {\nviewer_17179224397851067 = $3Dmol.createViewer(document.getElementById(\"3dmolviewer_17179224397851067\"),{backgroundColor:\"white\"});\nviewer_17179224397851067.zoomTo();\n\tviewer_17179224397851067.addModel(\"HETATM    1  C1  UNL     1      -2.891   1.551  -0.646  1.00  0.00           C  \\nHETATM    2  C2  UNL     1      -3.205   0.092  -0.284  1.00  0.00           C  \\nHETATM    3  C3  UNL     1      -2.197  -0.884  -0.928  1.00  0.00           C  \\nHETATM    4  C4  UNL     1      -0.804  -0.706  -0.376  1.00  0.00           C  \\nHETATM    5  C5  UNL     1       0.163   0.007  -1.100  1.00  0.00           C  \\nHETATM    6  C6  UNL     1       1.445   0.191  -0.575  1.00  0.00           C  \\nHETATM    7  C7  UNL     1       1.784  -0.335   0.685  1.00  0.00           C  \\nHETATM    8  C8  UNL     1       0.809  -1.043   1.410  1.00  0.00           C  \\nHETATM    9  C9  UNL     1      -0.473  -1.226   0.884  1.00  0.00           C  \\nHETATM   10  C10 UNL     1       3.168  -0.136   1.269  1.00  0.00           C  \\nHETATM   11  C11 UNL     1       4.215  -0.735   0.369  1.00  0.00           C  \\nHETATM   12  O1  UNL     1       4.579  -1.929   0.541  1.00  0.00           O  \\nHETATM   13  O2  UNL     1       4.749   0.004  -0.684  1.00  0.00           O  \\nHETATM   14  C12 UNL     1       3.443   1.347   1.547  1.00  0.00           C  \\nHETATM   15  C13 UNL     1      -4.632  -0.261  -0.719  1.00  0.00           C  \\nHETATM   16  H1  UNL     1      -3.651   2.229  -0.203  1.00  0.00           H  \\nHETATM   17  H2  UNL     1      -2.887   1.689  -1.749  1.00  0.00           H  \\nHETATM   18  H3  UNL     1      -1.901   1.847  -0.241  1.00  0.00           H  \\nHETATM   19  H4  UNL     1      -3.154  -0.013   0.823  1.00  0.00           H  \\nHETATM   20  H5  UNL     1      -2.196  -0.753  -2.033  1.00  0.00           H  \\nHETATM   21  H6  UNL     1      -2.518  -1.931  -0.733  1.00  0.00           H  \\nHETATM   22  H7  UNL     1      -0.077   0.427  -2.069  1.00  0.00           H  \\nHETATM   23  H8  UNL     1       2.172   0.747  -1.153  1.00  0.00           H  \\nHETATM   24  H9  UNL     1       1.039  -1.454   2.385  1.00  0.00           H  \\nHETATM   25  H10 UNL     1      -1.210  -1.771   1.461  1.00  0.00           H  \\nHETATM   26  H11 UNL     1       3.236  -0.658   2.250  1.00  0.00           H  \\nHETATM   27  H12 UNL     1       5.441  -0.401  -1.304  1.00  0.00           H  \\nHETATM   28  H13 UNL     1       4.443   1.466   2.015  1.00  0.00           H  \\nHETATM   29  H14 UNL     1       2.680   1.748   2.248  1.00  0.00           H  \\nHETATM   30  H15 UNL     1       3.414   1.945   0.612  1.00  0.00           H  \\nHETATM   31  H16 UNL     1      -4.739  -0.171  -1.822  1.00  0.00           H  \\nHETATM   32  H17 UNL     1      -5.362   0.419  -0.231  1.00  0.00           H  \\nHETATM   33  H18 UNL     1      -4.880  -1.301  -0.418  1.00  0.00           H  \\nCONECT    1    2   16   17   18\\nCONECT    2    3   15   19\\nCONECT    3    4   20   21\\nCONECT    4    5    5    9\\nCONECT    5    6   22\\nCONECT    6    7    7   23\\nCONECT    7    8   10\\nCONECT    8    9    9   24\\nCONECT    9   25\\nCONECT   10   11   14   26\\nCONECT   11   12   12   13\\nCONECT   13   27\\nCONECT   14   28   29   30\\nCONECT   15   31   32   33\\nEND\\n\",\"pdb\");\n\tviewer_17179224397851067.setStyle({\"stick\": {}});\n\tviewer_17179224397851067.zoomTo();\nviewer_17179224397851067.render();\n});\n</script>",
      "text/html": [
       "<div id=\"3dmolviewer_17179224397851067\"  style=\"position: relative; width: 800px; height: 600px;\">\n",
       "        <p id=\"3dmolwarning_17179224397851067\" style=\"background-color:#ffcccc;color:black\">3Dmol.js failed to load for some reason.  Please check your browser console for error messages.<br></p>\n",
       "        </div>\n",
       "<script>\n",
       "\n",
       "var loadScriptAsync = function(uri){\n",
       "  return new Promise((resolve, reject) => {\n",
       "    //this is to ignore the existence of requirejs amd\n",
       "    var savedexports, savedmodule;\n",
       "    if (typeof exports !== 'undefined') savedexports = exports;\n",
       "    else exports = {}\n",
       "    if (typeof module !== 'undefined') savedmodule = module;\n",
       "    else module = {}\n",
       "\n",
       "    var tag = document.createElement('script');\n",
       "    tag.src = uri;\n",
       "    tag.async = true;\n",
       "    tag.onload = () => {\n",
       "        exports = savedexports;\n",
       "        module = savedmodule;\n",
       "        resolve();\n",
       "    };\n",
       "  var firstScriptTag = document.getElementsByTagName('script')[0];\n",
       "  firstScriptTag.parentNode.insertBefore(tag, firstScriptTag);\n",
       "});\n",
       "};\n",
       "\n",
       "if(typeof $3Dmolpromise === 'undefined') {\n",
       "$3Dmolpromise = null;\n",
       "  $3Dmolpromise = loadScriptAsync('https://cdnjs.cloudflare.com/ajax/libs/3Dmol/2.1.0/3Dmol-min.js');\n",
       "}\n",
       "\n",
       "var viewer_17179224397851067 = null;\n",
       "var warn = document.getElementById(\"3dmolwarning_17179224397851067\");\n",
       "if(warn) {\n",
       "    warn.parentNode.removeChild(warn);\n",
       "}\n",
       "$3Dmolpromise.then(function() {\n",
       "viewer_17179224397851067 = $3Dmol.createViewer(document.getElementById(\"3dmolviewer_17179224397851067\"),{backgroundColor:\"white\"});\n",
       "viewer_17179224397851067.zoomTo();\n",
       "\tviewer_17179224397851067.addModel(\"HETATM    1  C1  UNL     1      -2.891   1.551  -0.646  1.00  0.00           C  \\nHETATM    2  C2  UNL     1      -3.205   0.092  -0.284  1.00  0.00           C  \\nHETATM    3  C3  UNL     1      -2.197  -0.884  -0.928  1.00  0.00           C  \\nHETATM    4  C4  UNL     1      -0.804  -0.706  -0.376  1.00  0.00           C  \\nHETATM    5  C5  UNL     1       0.163   0.007  -1.100  1.00  0.00           C  \\nHETATM    6  C6  UNL     1       1.445   0.191  -0.575  1.00  0.00           C  \\nHETATM    7  C7  UNL     1       1.784  -0.335   0.685  1.00  0.00           C  \\nHETATM    8  C8  UNL     1       0.809  -1.043   1.410  1.00  0.00           C  \\nHETATM    9  C9  UNL     1      -0.473  -1.226   0.884  1.00  0.00           C  \\nHETATM   10  C10 UNL     1       3.168  -0.136   1.269  1.00  0.00           C  \\nHETATM   11  C11 UNL     1       4.215  -0.735   0.369  1.00  0.00           C  \\nHETATM   12  O1  UNL     1       4.579  -1.929   0.541  1.00  0.00           O  \\nHETATM   13  O2  UNL     1       4.749   0.004  -0.684  1.00  0.00           O  \\nHETATM   14  C12 UNL     1       3.443   1.347   1.547  1.00  0.00           C  \\nHETATM   15  C13 UNL     1      -4.632  -0.261  -0.719  1.00  0.00           C  \\nHETATM   16  H1  UNL     1      -3.651   2.229  -0.203  1.00  0.00           H  \\nHETATM   17  H2  UNL     1      -2.887   1.689  -1.749  1.00  0.00           H  \\nHETATM   18  H3  UNL     1      -1.901   1.847  -0.241  1.00  0.00           H  \\nHETATM   19  H4  UNL     1      -3.154  -0.013   0.823  1.00  0.00           H  \\nHETATM   20  H5  UNL     1      -2.196  -0.753  -2.033  1.00  0.00           H  \\nHETATM   21  H6  UNL     1      -2.518  -1.931  -0.733  1.00  0.00           H  \\nHETATM   22  H7  UNL     1      -0.077   0.427  -2.069  1.00  0.00           H  \\nHETATM   23  H8  UNL     1       2.172   0.747  -1.153  1.00  0.00           H  \\nHETATM   24  H9  UNL     1       1.039  -1.454   2.385  1.00  0.00           H  \\nHETATM   25  H10 UNL     1      -1.210  -1.771   1.461  1.00  0.00           H  \\nHETATM   26  H11 UNL     1       3.236  -0.658   2.250  1.00  0.00           H  \\nHETATM   27  H12 UNL     1       5.441  -0.401  -1.304  1.00  0.00           H  \\nHETATM   28  H13 UNL     1       4.443   1.466   2.015  1.00  0.00           H  \\nHETATM   29  H14 UNL     1       2.680   1.748   2.248  1.00  0.00           H  \\nHETATM   30  H15 UNL     1       3.414   1.945   0.612  1.00  0.00           H  \\nHETATM   31  H16 UNL     1      -4.739  -0.171  -1.822  1.00  0.00           H  \\nHETATM   32  H17 UNL     1      -5.362   0.419  -0.231  1.00  0.00           H  \\nHETATM   33  H18 UNL     1      -4.880  -1.301  -0.418  1.00  0.00           H  \\nCONECT    1    2   16   17   18\\nCONECT    2    3   15   19\\nCONECT    3    4   20   21\\nCONECT    4    5    5    9\\nCONECT    5    6   22\\nCONECT    6    7    7   23\\nCONECT    7    8   10\\nCONECT    8    9    9   24\\nCONECT    9   25\\nCONECT   10   11   14   26\\nCONECT   11   12   12   13\\nCONECT   13   27\\nCONECT   14   28   29   30\\nCONECT   15   31   32   33\\nEND\\n\",\"pdb\");\n",
       "\tviewer_17179224397851067.setStyle({\"stick\": {}});\n",
       "\tviewer_17179224397851067.zoomTo();\n",
       "viewer_17179224397851067.render();\n",
       "});\n",
       "</script>"
      ]
     },
     "metadata": {},
     "output_type": "display_data"
    },
    {
     "name": "stdout",
     "output_type": "stream",
     "text": [
      "3D molecule visualization saved as 'molecule_3d.html'\n"
     ]
    }
   ],
   "source": [
    "def plot_3d(name, smiles, show=False):\n",
    "    molecule = Chem.MolFromSmiles(smiles)\n",
    "\n",
    "    # Add hydrogens to the molecule\n",
    "    molecule = Chem.AddHs(molecule)\n",
    "\n",
    "    # Generate 3D coordinates\n",
    "    AllChem.EmbedMolecule(molecule, AllChem.ETKDG())\n",
    "    AllChem.UFFOptimizeMolecule(molecule)\n",
    "\n",
    "    # Generate 3D conformer as a PDB string\n",
    "    pdb_block = Chem.MolToPDBBlock(molecule)\n",
    "\n",
    "    # Visualize the molecule using py3Dmol\n",
    "    viewer = py3Dmol.view(width=800, height=600)\n",
    "    viewer.addModel(pdb_block, 'pdb')\n",
    "    viewer.setStyle({'stick': {}})\n",
    "    viewer.zoomTo()\n",
    "    if show:\n",
    "        viewer.show()\n",
    "\n",
    "    # Save the viewer's contents to an HTML file\n",
    "    html_content = viewer._make_html()\n",
    "    with open(f'{name}_3d.html', 'w') as f:\n",
    "        f.write(html_content)\n",
    "\n",
    "    print(\"3D molecule visualization saved as 'molecule_3d.html'\");\n",
    "\n",
    "plot_3d(\"Caffeine\", \"CC(Cc1ccc(cc1)C(C(=O)O)C)C\", show=True)"
   ]
  }
 ],
 "metadata": {
  "kernelspec": {
   "display_name": "base",
   "language": "python",
   "name": "python3"
  },
  "language_info": {
   "codemirror_mode": {
    "name": "ipython",
    "version": 3
   },
   "file_extension": ".py",
   "mimetype": "text/x-python",
   "name": "python",
   "nbconvert_exporter": "python",
   "pygments_lexer": "ipython3",
   "version": "3.12.4"
  }
 },
 "nbformat": 4,
 "nbformat_minor": 2
}
